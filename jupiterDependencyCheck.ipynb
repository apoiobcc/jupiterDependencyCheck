{
 "cells": [
  {
   "cell_type": "code",
   "execution_count": 76,
   "id": "9e4a9c25",
   "metadata": {},
   "outputs": [],
   "source": [
    "import pandas as pd\n",
    "import numpy as np\n",
    "import matplotlib.pyplot as plt\n",
    "from unicodedata import normalize\n",
    "\n",
    "table_MN = pd.read_html('https://uspdigital.usp.br/jupiterweb/listarGradeCurricular?codcg=45&codcur=45052&codhab=1&tipo=N',\n",
    "                        match= \"Disciplinas\")"
   ]
  },
  {
   "cell_type": "code",
   "execution_count": 77,
   "id": "c765e0d7",
   "metadata": {},
   "outputs": [
    {
     "name": "stdout",
     "output_type": "stream",
     "text": [
      "Total tables: 4\n"
     ]
    }
   ],
   "source": [
    "print(f'Total tables: {len(table_MN)}')"
   ]
  },
  {
   "cell_type": "code",
   "execution_count": 78,
   "id": "a438dc78",
   "metadata": {},
   "outputs": [
    {
     "data": {
      "text/html": [
       "<div>\n",
       "<style scoped>\n",
       "    .dataframe tbody tr th:only-of-type {\n",
       "        vertical-align: middle;\n",
       "    }\n",
       "\n",
       "    .dataframe tbody tr th {\n",
       "        vertical-align: top;\n",
       "    }\n",
       "\n",
       "    .dataframe thead th {\n",
       "        text-align: right;\n",
       "    }\n",
       "</style>\n",
       "<table border=\"1\" class=\"dataframe\">\n",
       "  <thead>\n",
       "    <tr style=\"text-align: right;\">\n",
       "      <th></th>\n",
       "      <th>0</th>\n",
       "      <th>1</th>\n",
       "      <th>2</th>\n",
       "      <th>3</th>\n",
       "      <th>4</th>\n",
       "      <th>5</th>\n",
       "      <th>6</th>\n",
       "      <th>7</th>\n",
       "    </tr>\n",
       "  </thead>\n",
       "  <tbody>\n",
       "    <tr>\n",
       "      <th>0</th>\n",
       "      <td>Disciplinas Obrigatórias</td>\n",
       "      <td>Disciplinas Obrigatórias</td>\n",
       "      <td>Disciplinas Obrigatórias</td>\n",
       "      <td>Disciplinas Obrigatórias</td>\n",
       "      <td>Disciplinas Obrigatórias</td>\n",
       "      <td>Disciplinas Obrigatórias</td>\n",
       "      <td>Disciplinas Obrigatórias</td>\n",
       "      <td>Disciplinas Obrigatórias</td>\n",
       "    </tr>\n",
       "    <tr>\n",
       "      <th>1</th>\n",
       "      <td>1º Período Ideal</td>\n",
       "      <td>1º Período Ideal</td>\n",
       "      <td>Créd.  Aula</td>\n",
       "      <td>Créd.  Trab.</td>\n",
       "      <td>CH</td>\n",
       "      <td>CE</td>\n",
       "      <td>CP</td>\n",
       "      <td>ATPA</td>\n",
       "    </tr>\n",
       "    <tr>\n",
       "      <th>2</th>\n",
       "      <td>MAC0101</td>\n",
       "      <td>Integração na Universidade e na Profissão</td>\n",
       "      <td>2</td>\n",
       "      <td>0</td>\n",
       "      <td>30</td>\n",
       "      <td>NaN</td>\n",
       "      <td>NaN</td>\n",
       "      <td>NaN</td>\n",
       "    </tr>\n",
       "    <tr>\n",
       "      <th>3</th>\n",
       "      <td>MAC0105</td>\n",
       "      <td>Fundamentos de Matemática para a Computação</td>\n",
       "      <td>4</td>\n",
       "      <td>0</td>\n",
       "      <td>60</td>\n",
       "      <td>NaN</td>\n",
       "      <td>NaN</td>\n",
       "      <td>NaN</td>\n",
       "    </tr>\n",
       "    <tr>\n",
       "      <th>4</th>\n",
       "      <td>MAC0110</td>\n",
       "      <td>Introdução à Computação</td>\n",
       "      <td>4</td>\n",
       "      <td>0</td>\n",
       "      <td>60</td>\n",
       "      <td>NaN</td>\n",
       "      <td>NaN</td>\n",
       "      <td>NaN</td>\n",
       "    </tr>\n",
       "  </tbody>\n",
       "</table>\n",
       "</div>"
      ],
      "text/plain": [
       "                          0                                            1  \\\n",
       "0  Disciplinas Obrigatórias                     Disciplinas Obrigatórias   \n",
       "1          1º Período Ideal                             1º Período Ideal   \n",
       "2                   MAC0101    Integração na Universidade e na Profissão   \n",
       "3                   MAC0105  Fundamentos de Matemática para a Computação   \n",
       "4                   MAC0110                      Introdução à Computação   \n",
       "\n",
       "                          2                         3  \\\n",
       "0  Disciplinas Obrigatórias  Disciplinas Obrigatórias   \n",
       "1               Créd.  Aula              Créd.  Trab.   \n",
       "2                         2                         0   \n",
       "3                         4                         0   \n",
       "4                         4                         0   \n",
       "\n",
       "                          4                         5  \\\n",
       "0  Disciplinas Obrigatórias  Disciplinas Obrigatórias   \n",
       "1                        CH                        CE   \n",
       "2                        30                       NaN   \n",
       "3                        60                       NaN   \n",
       "4                        60                       NaN   \n",
       "\n",
       "                          6                         7  \n",
       "0  Disciplinas Obrigatórias  Disciplinas Obrigatórias  \n",
       "1                        CP                      ATPA  \n",
       "2                       NaN                       NaN  \n",
       "3                       NaN                       NaN  \n",
       "4                       NaN                       NaN  "
      ]
     },
     "execution_count": 78,
     "metadata": {},
     "output_type": "execute_result"
    }
   ],
   "source": [
    "df = table_MN[3]\n",
    "df.head()"
   ]
  },
  {
   "cell_type": "code",
   "execution_count": 75,
   "id": "e4fe05f2",
   "metadata": {},
   "outputs": [
    {
     "name": "stdout",
     "output_type": "stream",
     "text": [
      "<class 'pandas.core.frame.DataFrame'>\n",
      "RangeIndex: 294 entries, 0 to 293\n",
      "Data columns (total 8 columns):\n",
      " #   Column  Non-Null Count  Dtype \n",
      "---  ------  --------------  ----- \n",
      " 0   0       273 non-null    object\n",
      " 1   1       273 non-null    object\n",
      " 2   2       273 non-null    object\n",
      " 3   3       273 non-null    object\n",
      " 4   4       269 non-null    object\n",
      " 5   5       48 non-null     object\n",
      " 6   6       42 non-null     object\n",
      " 7   7       42 non-null     object\n",
      "dtypes: object(8)\n",
      "memory usage: 18.5+ KB\n"
     ]
    }
   ],
   "source": [
    "df.info()"
   ]
  },
  {
   "cell_type": "code",
   "execution_count": null,
   "id": "35df1c50",
   "metadata": {},
   "outputs": [],
   "source": []
  }
 ],
 "metadata": {
  "kernelspec": {
   "display_name": "Python 3",
   "language": "python",
   "name": "python3"
  },
  "language_info": {
   "codemirror_mode": {
    "name": "ipython",
    "version": 3
   },
   "file_extension": ".py",
   "mimetype": "text/x-python",
   "name": "python",
   "nbconvert_exporter": "python",
   "pygments_lexer": "ipython3",
   "version": "3.8.8"
  }
 },
 "nbformat": 4,
 "nbformat_minor": 5
}
