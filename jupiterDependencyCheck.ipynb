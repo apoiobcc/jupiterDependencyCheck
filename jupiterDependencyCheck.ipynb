{
 "cells": [
  {
   "cell_type": "code",
   "execution_count": 1,
   "id": "4201aa38",
   "metadata": {},
   "outputs": [],
   "source": [
    "from selenium import webdriver\n",
    "import time\n",
    "import pandas as pd\n",
    "import numpy as np\n",
    "import matplotlib.pyplot as plt\n",
    "import re\n",
    "from unicodedata import normalize\n",
    "from webdriver_manager.chrome import ChromeDriverManager\n",
    "\n",
    "#driver = webdriver.Chrome(\n",
    "   # executable_path=r'C:/Program Files/webdrivers/chromedriver.exe')"
   ]
  },
  {
   "cell_type": "code",
   "execution_count": 2,
   "id": "9e4a9c25",
   "metadata": {},
   "outputs": [],
   "source": [
    "\n",
    "gradeCurricular = pd.read_html('https://uspdigital.usp.br/jupiterweb/listarGradeCurricular?codcg=45&codcur=45052&codhab=1&tipo=N',\n",
    "                        match= \"Disciplinas\");\n",
    "\n",
    "# [0] = 1° ano; [1] = 2° ano; [3] = 3° e 4° anos\n",
    "\n",
    "#segundoSemestre2021 = [0]*3;\n",
    "#primeiroSemestre2021 = [0]*3;\n",
    "#segundoSemestre2020 = [0]*3;\n",
    "#primeiroSemestre2020 = [0]*3;\n",
    "#segundoSemestre2019 = [0]*3;\n",
    "#primeiroSemestre2019 = [0]*3;\n",
    "\n",
    "\n",
    "#driver.get('https://www.ime.usp.br/~pmiranda/horarios/2s21/index.html')\n",
    "#segundoSemestre2021[0]=pd.read_html(driver.page_source)[0]\n",
    "#segundoSemestre2021[1]=pd.read_html(driver.page_source)[1]\n",
    "#segundoSemestre2021[2]=pd.read_html(driver.page_source)[2]\n",
    "#driver.quit\n",
    "\n",
    "#driver.get('https://www.ime.usp.br/~pmiranda/horarios/1s21/index.html')\n",
    "#primeiroSemestre2021[0]=pd.read_html(driver.page_source)[0]\n",
    "#primeiroSemestre2021[1]=pd.read_html(driver.page_source)[1]\n",
    "#primeiroSemestre2021[2]=pd.read_html(driver.page_source)[2]\n",
    "#driver.quit\n",
    "\n",
    "#driver.get('https://www.ime.usp.br/~pmiranda/horarios/2s20/index.html')\n",
    "#segundoSemestre2020[0]=pd.read_html(driver.page_source)[0]\n",
    "#segundoSemestre2020[1]=pd.read_html(driver.page_source)[1]\n",
    "#segundoSemestre2020[2]=pd.read_html(driver.page_source)[2]\n",
    "#driver.quit\n",
    "\n",
    "#driver.get('https://www.ime.usp.br/~pmiranda/horarios/1s20/index.html')\n",
    "#primeiroSemestre2020[0]=pd.read_html(driver.page_source)[0]\n",
    "#primeiroSemestre2020[1]=pd.read_html(driver.page_source)[1]\n",
    "#primeiroSemestre2020[2]=pd.read_html(driver.page_source)[2]\n",
    "#driver.quit\n",
    "\n",
    "#driver.get('https://www.ime.usp.br/~pmiranda/horarios/2s19/index.html')\n",
    "#segundoSemestre2019[0]=pd.read_html(driver.page_source)[0]\n",
    "#segundoSemestre2019[1]=pd.read_html(driver.page_source)[1]\n",
    "#segundoSemestre2019[2]=pd.read_html(driver.page_source)[2]\n",
    "#driver.quit\n",
    "\n",
    "#driver.get('https://www.ime.usp.br/~pmiranda/horarios/1s19/index.html')\n",
    "#primeiroSemestre2019[0]=pd.read_html(driver.page_source)[0]\n",
    "#primeiroSemestre2019[1]=pd.read_html(driver.page_source)[1]\n",
    "#primeiroSemestre2019[2]=pd.read_html(driver.page_source)[2]\n",
    "#driver.quit"
   ]
  },
  {
   "cell_type": "markdown",
   "id": "0522c4a9",
   "metadata": {},
   "source": [
    "## Pegando os códigos das disciplinas sendo oferecidas:"
   ]
  },
  {
   "cell_type": "code",
   "execution_count": 3,
   "id": "a438dc78",
   "metadata": {},
   "outputs": [],
   "source": [
    "df = gradeCurricular[3];\n",
    "#print(s2a21[0])"
   ]
  },
  {
   "cell_type": "code",
   "execution_count": 4,
   "id": "e4fe05f2",
   "metadata": {},
   "outputs": [],
   "source": [
    "codigos = {};\n",
    "count = 0;\n",
    "for i in df[0]:\n",
    "    if(isinstance(i, str)):\n",
    "        if(re.match(\"^(([A-Z]{3})[0-9]{4})$\", i)):\n",
    "            codigos[i] = []; \n",
    "    count +=1;\n",
    "    # Ao printar os valores de i nota-se que existem valores repetidos após 262,\n",
    "    # provavelmente um erro de leftovers do jupiter;\n",
    "    if(count==262):\n",
    "        break;"
   ]
  },
  {
   "cell_type": "markdown",
   "id": "f674efe1",
   "metadata": {},
   "source": [
    "## Pegando os requisitos de cada disciplina:"
   ]
  },
  {
   "cell_type": "code",
   "execution_count": 5,
   "id": "f6f59c73",
   "metadata": {},
   "outputs": [],
   "source": [
    "for cod in codigos:   \n",
    "    curso = \" \";\n",
    "    requisitosDisciplina = pd.read_html(\"https://uspdigital.usp.br/jupiterweb/listarCursosRequisitos?coddis=\"+cod);\n",
    "    if(len(requisitosDisciplina) >= 6):\n",
    "        req = requisitosDisciplina[6];\n",
    "        for i in req:\n",
    "            j = 1;\n",
    "            k = 0;\n",
    "            while(re.match(\"(^(Curso:\\ 45051))(.*)\", req[i][k]) == False):\n",
    "                k+=1;\n",
    "            \n",
    "            while(isinstance(req[i][k+j], str)):\n",
    "                repetida = 0;\n",
    "                if(re.match(\"(^(([A-Z]{3})[0-9]{4}))(.*)\", req[i][k+j])):\n",
    "                    for z in codigos[cod]:\n",
    "                        if z == req[i][k+j].split(' ')[0]:\n",
    "                            repetida = 1;\n",
    "                    if repetida == 0:    \n",
    "                        codigos[cod].append(req[i][k+j].split(' ')[0]);\n",
    "                j+=1;\n"
   ]
  },
  {
   "cell_type": "code",
   "execution_count": 6,
   "id": "68b9057d",
   "metadata": {},
   "outputs": [
    {
     "name": "stdout",
     "output_type": "stream",
     "text": [
      "{'MAC0101': [], 'MAC0105': [], 'MAC0110': [], 'MAC0329': [], 'MAT0112': [], 'MAT2453': [], 'MAC0121': ['MAC0110'], 'MAC0216': ['MAC0110'], 'MAC0239': ['MAC0110'], 'MAE0119': [], 'MAT0122': ['MAT0112'], 'MAT2454': ['MAT2453'], 'MAC0102': ['MAC0121'], 'MAC0209': ['MAC0110'], 'MAC0210': ['MAC0110', 'MAT0122'], 'MAC0323': ['MAC0121'], 'MAT0236': ['MAT2454'], 'MAC0316': ['MAC0121'], 'MAC0338': ['MAC0323'], 'MAC0350': ['MAC0316'], 'MAC0422': ['MAC0121'], 'FLC0474': [], 'MAC0499': ['MAC0338', 'MAC0422'], 'GMG0630': [], 'ACH2023': ['ACH2001', 'ACH2002'], 'ACH2033': ['ACH2011'], 'MAC0213': [], 'MAC0214': [], 'MAC0215': [], 'CJE0642': [], 'IOF0115': ['IOF1222', 'MAC0115'], 'MAC0327': ['MAC0121'], 'MAC0337': ['MAC0121'], 'MAC0453': [], 'MAE0217': ['MAE1512'], 'MAE0228': ['MAE1512'], 'MAE0399': ['MAE0212'], 'MAP2001': [], 'MAT0206': ['MAT0121'], 'MAT0222': ['MAT0122'], 'MAT0223': ['MAT0120'], 'MAT0264': ['MAT0164'], 'MAC0218': ['MAC0216'], 'MAC0219': ['MAC0121', 'MAC0216'], 'MAC0242': ['MAC0121'], 'MAC0300': ['MAT0122'], 'MAC0341': [], 'MAC0474': [], 'MAE0221': ['MAT2351'], 'MAE0224': ['MAE0221', 'MAT0205'], 'MAE0515': ['MAE0121', 'MAT0111'], 'MAT0265': ['MAT0164'], 'MAT0311': ['MAT0122', 'MAT0206'], 'PCS3549': [], 'QBQ0126': ['QBQ0116'], 'QBQ0230': [], 'QBQ0250': [], 'QBQ1252': ['QBQ1151', 'QFL1101', 'QFL1103', 'QFL1221'], 'QBQ2457': ['BMM0121', 'QBQ1354'], 'QBQ2503': ['BIO0205', 'QBQ0230'], 'QBQ2507': ['QBQ0230'], 'QBQ2508': ['QBQ0230'], 'QBQ2509': ['QBQ0230'], 'AUH2803': [], 'AUP1301': [], 'AUP2409': [], 'IOF0255': [], 'IOF0265': ['MAC0115'], 'MAC0315': ['MAT0122'], 'MAC0320': ['MAC0121'], 'MAC0328': ['MAC0122'], 'MAC0345': ['MAC0121'], 'MAC0346': ['MAC0121'], 'MAC0351': [], 'MAC0352': ['MAC0323'], 'MAC0385': ['MAC0323'], 'MAC0431': ['MAC0121'], 'MAC0444': ['MAC0239', 'MAC0323'], 'MAE0311': ['MAE0228', 'MAT2352'], 'MAE0312': ['MAE0221'], 'MAE0532': ['MAE0212'], 'MAP2210': ['MAT0105', 'MAT0134'], 'MAT0225': ['MAT0205', 'MAT0206'], 'MAT0364': ['MAT0264', 'MAT0265'], 'PCS2305': ['PCS2214', 'PCS2304'], 'QBQ0102': [], 'QBQ0104': [], 'QBQ0106': [], 'QBQ0116': [], 'QBQ0204': [], 'QBQ0317': ['QBQ0215', 'QBQ0316'], 'QBQ1354': ['QBQ1252'], 'QBQ2502': ['QBQ0230'], 'QBQ2505': ['QBQ0230'], 'ACH2096': ['ACH2024', 'ACH2044'], 'ACH2106': ['ACH2003', 'ACH2005'], 'MAC0317': [], 'MAC0318': [], 'MAC0325': ['MAC0122'], 'MAC0331': ['MAC0323'], 'MAC0332': ['MAC0121'], 'MAC0340': ['MAC0121'], 'MAC0343': ['MAC0315'], 'MAC0344': ['MAC0121', 'MAC0329'], 'MAC0375': [], 'MAC0412': ['MAC0329'], 'MAC0414': ['MAC0122', 'MAT0265'], 'MAC0417': [], 'MAC0420': ['MAC0323'], 'MAC0425': ['MAC0122'], 'MAC0426': ['MAC0350'], 'MAC0441': ['MAC0242'], 'MAC0448': ['MAC0121'], 'MAC0450': ['MAC0315'], 'MAC0470': ['PCS3110'], 'MAC0471': ['MAC0350'], 'MAC0473': ['MAC0315'], 'MAC0475': ['PCS3443'], 'MAE0325': ['MAE0311'], 'MAE0328': ['MAE0311', 'MAP2210'], 'MAP0313': ['MAT0205', 'MAT0222'], 'MAP2220': ['MAP2210', 'MAT2351', 'MAP0151'], 'MAT0234': ['MAP0215', 'MAP0216'], 'MAT0350': ['MAT0206', 'MAT0264'], 'PCS3345': ['PCS3335'], 'PCS3863': [], 'ACH2007': ['ACH2006'], 'ACH2066': ['ACH2025'], 'ACH2067': ['ACH2014', 'ACH2027'], 'ACH2076': ['ACH2034'], 'ACH2077': ['ACH2004'], 'ACH2087': ['ACH2024', 'ACH2043'], 'ACH2107': ['ACH2023'], 'ACH2117': ['ACH2023', 'ACH2033'], 'ACH2127': ['ACH2014', 'ACH2027'], 'ACH2137': ['ACH2024'], 'MAC0322': [], 'MAC0333': ['MAC0323'], 'MAC0336': ['MAC0105'], 'MAC0413': ['MAC0316'], 'MAC0416': [], 'MAC0427': ['MAT0122'], 'MAC0430': ['MAC0338'], 'MAC0432': ['MAT0213', 'MAC0121'], 'MAC0436': [], 'MAC0438': ['MAC0121'], 'MAC0439': ['MAC0350'], 'MAC0446': [], 'MAC0451': ['MAC0316', 'MAC0426'], 'MAC0452': ['MAC0325'], 'MAC0456': ['MAC0332'], 'MAC0459': ['PCS3413'], 'MAC0464': [], 'MAC0466': ['MAC0323'], 'MAC0467': ['MAC0323'], 'MAC0468': ['MAC0121'], 'MAC0472': ['PCS3443'], 'MAC0546': ['MAC0216'], 'MAC0690': ['MAE0121', 'MAP0216', 'MAT3211'], 'MAC0691': ['MAT0222'], 'MAC0693': ['MAC0105', 'MAC0338', 'MAE0119', 'MAT0122', 'MAT0236'], 'MAC0775': ['MAE0121', 'MAP0216', 'MAT3211'], 'MAE0314': ['MAE0311', 'MAP2210'], 'MAE0315': ['MAE0212'], 'MAE0326': ['MAE0228'], 'MAP2310': ['MAP2220', 'MAT0221', 'MAP0215'], 'MAT0330': ['MAT0164', 'MAT0206'], 'MAT0359': ['MAT0206', 'MAT0264'], 'PCS0216': [], 'PCS3529': [], 'PCS3848': [], 'ACH2028': ['ACH2005', 'ACH2006'], 'ACH2037': ['ACH2036'], 'ACH2038': ['ACH2026'], 'ACH2048': ['ACH2026'], 'ACH2068': ['ACH2005', 'ACH2006'], 'ACH2078': [], 'ACH2086': ['ACH2005'], 'ACH2098': ['ACH2004', 'ACH2013'], 'ACH2108': ['ACH2024'], 'ACH2118': ['ACH2016'], 'MAC0319': ['MAC0242'], 'MAC0326': [], 'MAC0419': ['MAC0121'], 'MAC0424': ['MAC0422', 'MAC0426'], 'MAC0434': ['MAC0121'], 'MAC0435': [], 'MAC0447': [], 'MAC0458': [], 'MAC0460': ['MAE0119', 'MAT0122', 'MAT2454'], 'MAC0463': ['PCS3434'], 'MAC0465': ['MAC0121'], 'MAC0485': [], 'MAC0536': ['MAC0436'], 'MAC0552': ['MAC0452'], 'MAC0692': ['MAC0690'], 'MAC0776': ['MAC0775'], 'MAE0330': ['MAE0314'], 'MAP2321': ['MAT0222', 'MAT0226', 'MAT0205', 'MAT0311'], 'MAP2411': ['MAP2220', 'MAT0130', 'MAT2352', 'MAP0151'], 'PCS0210': [], 'PCS3858': []}\n"
     ]
    }
   ],
   "source": [
    "print(codigos)"
   ]
  },
  {
   "cell_type": "code",
   "execution_count": null,
   "id": "cd7f72f4",
   "metadata": {},
   "outputs": [],
   "source": []
  }
 ],
 "metadata": {
  "kernelspec": {
   "display_name": "Python 3",
   "language": "python",
   "name": "python3"
  },
  "language_info": {
   "codemirror_mode": {
    "name": "ipython",
    "version": 3
   },
   "file_extension": ".py",
   "mimetype": "text/x-python",
   "name": "python",
   "nbconvert_exporter": "python",
   "pygments_lexer": "ipython3",
   "version": "3.8.8"
  }
 },
 "nbformat": 4,
 "nbformat_minor": 5
}
